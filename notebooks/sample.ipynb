{
 "cells": [
  {
   "cell_type": "code",
   "execution_count": 2,
   "metadata": {},
   "outputs": [
    {
     "data": {
      "text/plain": [
       "'d:\\\\my_projects\\\\Gold_Price_Prediction\\\\notebooks'"
      ]
     },
     "execution_count": 2,
     "metadata": {},
     "output_type": "execute_result"
    }
   ],
   "source": [
    "%pwd"
   ]
  },
  {
   "cell_type": "code",
   "execution_count": 3,
   "metadata": {},
   "outputs": [
    {
     "data": {
      "text/plain": [
       "'d:\\\\my_projects'"
      ]
     },
     "execution_count": 3,
     "metadata": {},
     "output_type": "execute_result"
    }
   ],
   "source": [
    "import os\n",
    "os.chdir(\"../../\") # changing to root directory\n",
    "%pwd"
   ]
  },
  {
   "cell_type": "code",
   "execution_count": 4,
   "metadata": {},
   "outputs": [
    {
     "data": {
      "text/plain": [
       "'d:\\\\my_projects\\\\Gold_Price_Prediction'"
      ]
     },
     "execution_count": 4,
     "metadata": {},
     "output_type": "execute_result"
    }
   ],
   "source": [
    "os.chdir('Gold_Price_Prediction')\n",
    "%pwd"
   ]
  },
  {
   "cell_type": "code",
   "execution_count": 5,
   "metadata": {},
   "outputs": [
    {
     "data": {
      "text/html": [
       "<div>\n",
       "<style scoped>\n",
       "    .dataframe tbody tr th:only-of-type {\n",
       "        vertical-align: middle;\n",
       "    }\n",
       "\n",
       "    .dataframe tbody tr th {\n",
       "        vertical-align: top;\n",
       "    }\n",
       "\n",
       "    .dataframe thead th {\n",
       "        text-align: right;\n",
       "    }\n",
       "</style>\n",
       "<table border=\"1\" class=\"dataframe\">\n",
       "  <thead>\n",
       "    <tr style=\"text-align: right;\">\n",
       "      <th></th>\n",
       "      <th>sp500 open</th>\n",
       "      <th>sp500 high</th>\n",
       "      <th>sp500 low</th>\n",
       "      <th>sp500 close</th>\n",
       "      <th>sp500 volume</th>\n",
       "      <th>sp500 high-low</th>\n",
       "      <th>nasdaq open</th>\n",
       "      <th>nasdaq high</th>\n",
       "      <th>nasdaq low</th>\n",
       "      <th>nasdaq close</th>\n",
       "      <th>...</th>\n",
       "      <th>platinum high-low</th>\n",
       "      <th>palladium open</th>\n",
       "      <th>palladium high</th>\n",
       "      <th>palladium low</th>\n",
       "      <th>palladium close</th>\n",
       "      <th>palladium high-low</th>\n",
       "      <th>gold open</th>\n",
       "      <th>gold high</th>\n",
       "      <th>gold low</th>\n",
       "      <th>gold close</th>\n",
       "    </tr>\n",
       "  </thead>\n",
       "  <tbody>\n",
       "    <tr>\n",
       "      <th>0</th>\n",
       "      <td>283.71</td>\n",
       "      <td>283.8200</td>\n",
       "      <td>280.38</td>\n",
       "      <td>281.42</td>\n",
       "      <td>76783177.0</td>\n",
       "      <td>3.4400</td>\n",
       "      <td>181.19</td>\n",
       "      <td>181.3100</td>\n",
       "      <td>176.6000</td>\n",
       "      <td>177.62</td>\n",
       "      <td>...</td>\n",
       "      <td>0.4600</td>\n",
       "      <td>88.45</td>\n",
       "      <td>88.5700</td>\n",
       "      <td>87.43</td>\n",
       "      <td>88.0000</td>\n",
       "      <td>1.1400</td>\n",
       "      <td>115.92</td>\n",
       "      <td>116.2399</td>\n",
       "      <td>115.77</td>\n",
       "      <td>115.83</td>\n",
       "    </tr>\n",
       "    <tr>\n",
       "      <th>1</th>\n",
       "      <td>226.36</td>\n",
       "      <td>227.1000</td>\n",
       "      <td>225.59</td>\n",
       "      <td>227.10</td>\n",
       "      <td>74650000.0</td>\n",
       "      <td>1.5100</td>\n",
       "      <td>122.63</td>\n",
       "      <td>122.9300</td>\n",
       "      <td>122.0200</td>\n",
       "      <td>122.93</td>\n",
       "      <td>...</td>\n",
       "      <td>2.0395</td>\n",
       "      <td>72.15</td>\n",
       "      <td>72.5918</td>\n",
       "      <td>71.83</td>\n",
       "      <td>72.4200</td>\n",
       "      <td>0.7618</td>\n",
       "      <td>112.87</td>\n",
       "      <td>114.1900</td>\n",
       "      <td>112.17</td>\n",
       "      <td>113.50</td>\n",
       "    </tr>\n",
       "    <tr>\n",
       "      <th>2</th>\n",
       "      <td>574.38</td>\n",
       "      <td>574.7100</td>\n",
       "      <td>569.90</td>\n",
       "      <td>572.30</td>\n",
       "      <td>48336004.0</td>\n",
       "      <td>4.8100</td>\n",
       "      <td>493.37</td>\n",
       "      <td>493.7000</td>\n",
       "      <td>485.8000</td>\n",
       "      <td>489.47</td>\n",
       "      <td>...</td>\n",
       "      <td>1.0600</td>\n",
       "      <td>96.87</td>\n",
       "      <td>97.2500</td>\n",
       "      <td>95.84</td>\n",
       "      <td>96.3000</td>\n",
       "      <td>1.4100</td>\n",
       "      <td>246.44</td>\n",
       "      <td>247.3700</td>\n",
       "      <td>245.19</td>\n",
       "      <td>246.98</td>\n",
       "    </tr>\n",
       "    <tr>\n",
       "      <th>3</th>\n",
       "      <td>417.09</td>\n",
       "      <td>417.8281</td>\n",
       "      <td>414.70</td>\n",
       "      <td>414.92</td>\n",
       "      <td>118676302.0</td>\n",
       "      <td>3.1281</td>\n",
       "      <td>343.63</td>\n",
       "      <td>344.8082</td>\n",
       "      <td>341.8600</td>\n",
       "      <td>342.63</td>\n",
       "      <td>...</td>\n",
       "      <td>2.6550</td>\n",
       "      <td>237.80</td>\n",
       "      <td>238.2101</td>\n",
       "      <td>229.16</td>\n",
       "      <td>231.1723</td>\n",
       "      <td>9.0501</td>\n",
       "      <td>166.14</td>\n",
       "      <td>166.7200</td>\n",
       "      <td>164.87</td>\n",
       "      <td>164.93</td>\n",
       "    </tr>\n",
       "    <tr>\n",
       "      <th>4</th>\n",
       "      <td>215.00</td>\n",
       "      <td>215.3200</td>\n",
       "      <td>214.48</td>\n",
       "      <td>214.89</td>\n",
       "      <td>60146600.0</td>\n",
       "      <td>0.8400</td>\n",
       "      <td>118.93</td>\n",
       "      <td>119.6500</td>\n",
       "      <td>118.8918</td>\n",
       "      <td>119.57</td>\n",
       "      <td>...</td>\n",
       "      <td>1.3810</td>\n",
       "      <td>60.41</td>\n",
       "      <td>60.8999</td>\n",
       "      <td>59.74</td>\n",
       "      <td>60.8700</td>\n",
       "      <td>1.1599</td>\n",
       "      <td>121.28</td>\n",
       "      <td>121.3000</td>\n",
       "      <td>120.16</td>\n",
       "      <td>120.56</td>\n",
       "    </tr>\n",
       "  </tbody>\n",
       "</table>\n",
       "<p>5 rows × 41 columns</p>\n",
       "</div>"
      ],
      "text/plain": [
       "   sp500 open  sp500 high  sp500 low  sp500 close  sp500 volume  \\\n",
       "0      283.71    283.8200     280.38       281.42    76783177.0   \n",
       "1      226.36    227.1000     225.59       227.10    74650000.0   \n",
       "2      574.38    574.7100     569.90       572.30    48336004.0   \n",
       "3      417.09    417.8281     414.70       414.92   118676302.0   \n",
       "4      215.00    215.3200     214.48       214.89    60146600.0   \n",
       "\n",
       "   sp500 high-low  nasdaq open  nasdaq high  nasdaq low  nasdaq close  ...  \\\n",
       "0          3.4400       181.19     181.3100    176.6000        177.62  ...   \n",
       "1          1.5100       122.63     122.9300    122.0200        122.93  ...   \n",
       "2          4.8100       493.37     493.7000    485.8000        489.47  ...   \n",
       "3          3.1281       343.63     344.8082    341.8600        342.63  ...   \n",
       "4          0.8400       118.93     119.6500    118.8918        119.57  ...   \n",
       "\n",
       "   platinum high-low  palladium open  palladium high  palladium low  \\\n",
       "0             0.4600           88.45         88.5700          87.43   \n",
       "1             2.0395           72.15         72.5918          71.83   \n",
       "2             1.0600           96.87         97.2500          95.84   \n",
       "3             2.6550          237.80        238.2101         229.16   \n",
       "4             1.3810           60.41         60.8999          59.74   \n",
       "\n",
       "   palladium close  palladium high-low  gold open  gold high  gold low  \\\n",
       "0          88.0000              1.1400     115.92   116.2399    115.77   \n",
       "1          72.4200              0.7618     112.87   114.1900    112.17   \n",
       "2          96.3000              1.4100     246.44   247.3700    245.19   \n",
       "3         231.1723              9.0501     166.14   166.7200    164.87   \n",
       "4          60.8700              1.1599     121.28   121.3000    120.16   \n",
       "\n",
       "   gold close  \n",
       "0      115.83  \n",
       "1      113.50  \n",
       "2      246.98  \n",
       "3      164.93  \n",
       "4      120.56  \n",
       "\n",
       "[5 rows x 41 columns]"
      ]
     },
     "execution_count": 5,
     "metadata": {},
     "output_type": "execute_result"
    }
   ],
   "source": [
    "import pandas as pd\n",
    "\n",
    "data = pd.read_csv('artifacts/data_ingestion/test.csv')\n",
    "\n",
    "data.head()"
   ]
  },
  {
   "cell_type": "code",
   "execution_count": 6,
   "metadata": {},
   "outputs": [
    {
     "name": "stdout",
     "output_type": "stream",
     "text": [
      "{'sp500 open': 433.06, 'sp500 high': 439.72, 'sp500 low': 427.15, 'sp500 close': 434.47, 'sp500 volume': 167997325.0, 'sp500 high-low': 12.57000000000005, 'nasdaq open': 346.67, 'nasdaq high': 351.0295, 'nasdaq low': 341.68, 'nasdaq close': 345.11, 'nasdaq volume': 124398394.0, 'nasdaq high-low': 9.349499999999978, 'usd_chf': 0.9194, 'eur_usd': 1.1283, 'silver open': 22.77, 'silver high': 23.09, 'silver low': 22.73, 'silver close': 22.96, 'silver volume': 1081838.0, 'silver high-low': 0.3599999999999994, 'oil open': 59.91, 'oil high': 61.17, 'oil low': 59.88, 'oil close': 60.97, 'oil volume': 6104811.0, 'oil high-low': 1.2899999999999991, 'platinum open': 94.13, 'platinum high': 96.43, 'platinum low': 94.06, 'platinum close': 95.79, 'platinum volume': 76346.0, 'platinum high-low': 2.3700000000000045, 'palladium open': 201.26, 'palladium high': 205.99, 'palladium low': 201.0353, 'palladium close': 205.67, 'palladium high-low': 4.9547000000000025, 'gold open': 171.95, 'gold high': 173.1499, 'gold low': 171.775, 'gold close': 172.58}\n"
     ]
    }
   ],
   "source": [
    "sample = data.sample(1)\n",
    "# Convert sample to dictionary\n",
    "sample_dict = sample.to_dict(orient=\"records\")[0]  # Convert to dict format suitable for JSON\n",
    "print(sample_dict)  # Check the dictionary format"
   ]
  },
  {
   "cell_type": "code",
   "execution_count": null,
   "metadata": {},
   "outputs": [],
   "source": [
    "# use this sample inside postman\n",
    "\"\"\"\n",
    "{\n",
    "    \"sp500 open\": 433.06,\n",
    "    \"sp500 high\": 439.72,\n",
    "    \"sp500 low\": 427.15,\n",
    "    \"sp500 close\": 434.47,\n",
    "    \"sp500 volume\": 167997325.0,\n",
    "    \"sp500 high-low\": 12.57000000000005,\n",
    "    \"nasdaq open\": 346.67,\n",
    "    \"nasdaq high\": 351.0295,\n",
    "    \"nasdaq low\": 341.68,\n",
    "    \"nasdaq close\": 345.11,\n",
    "    \"nasdaq volume\": 124398394.0,\n",
    "    \"nasdaq high-low\": 9.349499999999978,\n",
    "    \"usd_chf\": 0.9194,\n",
    "    \"eur_usd\": 1.1283,\n",
    "    \"silver open\": 22.77,\n",
    "    \"silver high\": 23.09,\n",
    "    \"silver low\": 22.73,\n",
    "    \"silver close\": 22.96,\n",
    "    \"silver volume\": 1081838.0,\n",
    "    \"silver high-low\": 0.3599999999999994,\n",
    "    \"oil open\": 59.91,\n",
    "    \"oil high\": 61.17,\n",
    "    \"oil low\": 59.88,\n",
    "    \"oil close\": 60.97,\n",
    "    \"oil volume\": 6104811.0,\n",
    "    \"oil high-low\": 1.2899999999999991,\n",
    "    \"platinum open\": 94.13,\n",
    "    \"platinum high\": 96.43,\n",
    "    \"platinum low\": 94.06,\n",
    "    \"platinum close\": 95.79,\n",
    "    \"platinum volume\": 76346.0,\n",
    "    \"platinum high-low\": 2.3700000000000045,\n",
    "    \"palladium open\": 201.26,\n",
    "    \"palladium high\": 205.99,\n",
    "    \"palladium low\": 201.0353,\n",
    "    \"palladium close\": 205.67,\n",
    "    \"palladium high-low\": 4.9547000000000025,\n",
    "    \"gold open\": 171.95,\n",
    "    \"gold high\": 173.1499,\n",
    "    \"gold low\": 171.775\n",
    "}\n",
    "\n",
    "\"\"\""
   ]
  }
 ],
 "metadata": {
  "kernelspec": {
   "display_name": "Python 3",
   "language": "python",
   "name": "python3"
  },
  "language_info": {
   "codemirror_mode": {
    "name": "ipython",
    "version": 3
   },
   "file_extension": ".py",
   "mimetype": "text/x-python",
   "name": "python",
   "nbconvert_exporter": "python",
   "pygments_lexer": "ipython3",
   "version": "3.13.2"
  }
 },
 "nbformat": 4,
 "nbformat_minor": 2
}
